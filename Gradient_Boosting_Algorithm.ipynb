{
 "cells": [
  {
   "cell_type": "code",
   "execution_count": 1,
   "metadata": {},
   "outputs": [],
   "source": [
    "import pandas as pd \n",
    "import numpy as np \n",
    "import matplotlib.pyplot as plt \n",
    "from sklearn.preprocessing import MinMaxScaler \n",
    "from sklearn.preprocessing import StandardScaler \n",
    "from sklearn.metrics import accuracy_score\n",
    "from sklearn.metrics import roc_auc_score\n",
    "from sklearn.metrics import roc_curve\n",
    "from sklearn.metrics import auc \n",
    "from sklearn.model_selection import train_test_split \n",
    "from sklearn.linear_model import LinearRegression "
   ]
  },
  {
   "cell_type": "code",
   "execution_count": 5,
   "metadata": {},
   "outputs": [],
   "source": [
    "from sklearn.ensemble import GradientBoostingRegressor \n",
    "from sklearn.datasets import load_diabetes\n",
    "from sklearn.metrics import mean_squared_error"
   ]
  },
  {
   "cell_type": "code",
   "execution_count": 6,
   "metadata": {},
   "outputs": [],
   "source": [
    "SEED = 23\n",
    "X,y = load_diabetes(return_X_y=True)\n",
    "train_X , test_X, train_y, test_y = train_test_split(X,y,test_size=0.25,random_state=SEED)"
   ]
  },
  {
   "cell_type": "code",
   "execution_count": 9,
   "metadata": {},
   "outputs": [
    {
     "name": "stdout",
     "output_type": "stream",
     "text": [
      "Root mean Square error : 56.39\n"
     ]
    }
   ],
   "source": [
    "gbr = GradientBoostingRegressor(loss='absolute_error',learning_rate=0.1,n_estimators=300,max_depth=1, random_state=SEED, max_features = 5)\n",
    "\n",
    "gbr.fit(train_X, train_y)\n",
    "pred_y = gbr.predict(test_X)\n",
    "test_rmse = mean_squared_error(test_y, pred_y) ** (1/2)\n",
    "print('Root mean Square error : {:.2f}'.format(test_rmse))\n"
   ]
  }
 ],
 "metadata": {
  "kernelspec": {
   "display_name": "first_project",
   "language": "python",
   "name": "first_project"
  },
  "language_info": {
   "codemirror_mode": {
    "name": "ipython",
    "version": 3
   },
   "file_extension": ".py",
   "mimetype": "text/x-python",
   "name": "python",
   "nbconvert_exporter": "python",
   "pygments_lexer": "ipython3",
   "version": "3.11.2"
  }
 },
 "nbformat": 4,
 "nbformat_minor": 2
}
